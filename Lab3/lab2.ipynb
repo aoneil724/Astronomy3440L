{
 "cells": [
  {
   "cell_type": "code",
   "execution_count": null,
   "id": "f87d419f",
   "metadata": {},
   "outputs": [],
   "source": [
    "import numpy as np\n",
    "from astropy.io import fits"
   ]
  },
  {
   "cell_type": "code",
   "execution_count": null,
   "id": "3981b54c",
   "metadata": {},
   "outputs": [
    {
     "name": "stdout",
     "output_type": "stream",
     "text": [
      "390150\n",
      "390150\n"
     ]
    }
   ],
   "source": [
    "#do dark frame stuff\n",
    "dark_data1 = [np.float64(fits.getdata(f'observation_data/lab2/Dark_000{i}.1_.fits', ext=0, header=False)) for i in range(1, 6)]\n",
    "dark_data2 = [np.float64(fits.getdata(f'observation_data/lab2/Dark_000{i}.2_.fits', ext=0, header=False)) for i in range(1, 6)]\n",
    "dark_data3 = [np.float64(fits.getdata(f'observation_data/lab2/Dark_000{i}.3_.fits', ext=0, header=False)) for i in range(1, 6)]\n",
    "dark_data5 = [np.float64(fits.getdata(f'observation_data/lab2/Dark_000{i}.5_.fits', ext=0, header=False)) for i in range(1, 6)]\n",
    "\n",
    "dark_med1 = np.median(dark_data1, axis = 0)\n",
    "dark_med2 = np.median(dark_data2, axis = 0)\n",
    "dark_med3 = np.median(dark_data3, axis = 0)\n",
    "dark_med5 = np.median(dark_data5, axis = 0)\n",
    "\n",
    "dark_dict = {1: dark_med1, 2: dark_med2, 3:dark_med3, 5:dark_med5}\n",
    "\n",
    "print(dark_data1[1].size)\n",
    "print(dark_med5.size)"
   ]
  },
  {
   "cell_type": "code",
   "execution_count": null,
   "id": "5134d872",
   "metadata": {},
   "outputs": [],
   "source": [
    "def subtract_dark(image_file, exposure):\n",
    "    image_data, image_hdr = fits.getdata(image_file, ext=0, header=True)\n",
    "    image_data = np.float64(image_data)\n",
    "    dark_subtracted = image_data - dark_dict[exposure]\n",
    "    fits.writeto(image_file[0:-5] + '-dark' + image_file[-5:],dark_subtracted,image_hdr)\n",
    "\n",
    "#subtract_dark('observation_data/lab2/5_exposure_003.fits', 5)"
   ]
  },
  {
   "cell_type": "code",
   "execution_count": null,
   "id": "3d149e46",
   "metadata": {},
   "outputs": [
    {
     "name": "stdout",
     "output_type": "stream",
     "text": [
      "Pixel Scale\n",
      "0.936784720365597\n",
      "0.002056094489601201\n"
     ]
    }
   ],
   "source": [
    "#distance\n",
    "def distance(x_1, x_2, y_1, y_2):\n",
    "    return(np.sqrt((x_1 - x_2)**2 + (y_1 - y_2)**2))\n",
    "\n",
    "def std(x):\n",
    "    a = np.sum([(i - np.mean(x))**2 for i in x])\n",
    "    return np.sqrt((1 / (len(x) - 1)) * a)\n",
    "\n",
    "distance_in_pix1 = distance(508.92266, 498.94617, 404.54185, 368.19744)\n",
    "distance_in_pix2 = distance(508.7206, 499.54871, 404.56037, 368.16795)\n",
    "distance_in_pix3 = distance(508.14882, 498.64482, 403.06148, 366.83295)\n",
    "distance_in_pix4 = distance(508.17081, 498.49558, 402.28856, 365.79116)\n",
    "distance_in_pix5 = distance(508.69828, 498.26995, 402.33886, 365.5907)\n",
    "distance_in_pix6 = distance(508.56125, 498.94093, 401.228, 364.81447)\n",
    "distance_in_pix7 = distance(507.80465, 498.13096, 399.08341, 362.69015)\n",
    "distance_in_pix8 = distance(507.25042, 497.3664, 398.02894, 361.33115)\n",
    "distance_in_pix9 = distance(506.2662, 496.71978, 397.80944, 361.44319)\n",
    "distance_in_pix10 = distance(506.27986, 496.20579, 395.95343, 360.05775)\n",
    "\n",
    "dpix_list = [distance_in_pix1, distance_in_pix2, distance_in_pix3, distance_in_pix4, distance_in_pix5, distance_in_pix6, distance_in_pix7, distance_in_pix8, distance_in_pix9, distance_in_pix10]\n",
    "\n",
    "d_a = 35.3\n",
    "p_list = d_a / np.array(dpix_list)\n",
    "\n",
    "p_mean = np.mean(p_list)\n",
    "SEp = std(p_list) / np.sqrt(len(p_list))\n",
    "print(\"Pixel Scale\")\n",
    "print(p_mean)\n",
    "print(SEp)\n"
   ]
  },
  {
   "cell_type": "code",
   "execution_count": 78,
   "id": "35c18464",
   "metadata": {},
   "outputs": [
    {
     "name": "stdout",
     "output_type": "stream",
     "text": [
      "716.6403110796817\n",
      "1.5729122845449186\n",
      "477.76020738645445\n",
      "1.0486081896966124\n"
     ]
    }
   ],
   "source": [
    "print(765 * p_mean)\n",
    "print(765 * SEp)\n",
    "print(510 * p_mean)\n",
    "print(510 * SEp)"
   ]
  }
 ],
 "metadata": {
  "kernelspec": {
   "display_name": "astro",
   "language": "python",
   "name": "python3"
  },
  "language_info": {
   "codemirror_mode": {
    "name": "ipython",
    "version": 3
   },
   "file_extension": ".py",
   "mimetype": "text/x-python",
   "name": "python",
   "nbconvert_exporter": "python",
   "pygments_lexer": "ipython3",
   "version": "3.13.7"
  }
 },
 "nbformat": 4,
 "nbformat_minor": 5
}
